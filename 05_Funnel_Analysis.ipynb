{
 "cells": [
  {
   "cell_type": "markdown",
   "metadata": {},
   "source": [
    "# Funnel Analysis"
   ]
  },
  {
   "cell_type": "markdown",
   "metadata": {},
   "source": [
    "## Goal"
   ]
  },
  {
   "cell_type": "markdown",
   "metadata": {},
   "source": [
    "The goal is to perform funnel analysis for an e-commerce website.\n",
    "<br>\n",
    "<br>\n",
    "Typically, websites have a clear path to conversion: for instance, you land on the home page, then you search, select a product, and buy it. At each of these steps, some users will drop off and leave the site. The sequence of pages that lead to conversion is called 'funnel'.\n",
    "<br>\n",
    "<br>\n",
    "Data Science can have a tremendous impact on funnel optimization. Funnel analysis allows to understand where/when our users abandon the website. It gives crucial insights on user behavior and on ways to improve the user experience. Also, it often allows to discover bugs."
   ]
  },
  {
   "cell_type": "markdown",
   "metadata": {},
   "source": [
    "## Challenge Description"
   ]
  },
  {
   "cell_type": "markdown",
   "metadata": {},
   "source": [
    "You are looking at data from an e-commerce website. The site is very simple and has just 4 pages:\n",
    "* The first page is the home page. When you come to the site for the first time, you can only land on the home page as a first page.\n",
    "* From the home page, the user can perform a search and land on the search page.\n",
    "* From the search page, if the user clicks on a product, she will get to the payment page,\n",
    "where she is asked to provide payment information in order to buy that product.\n",
    "* If she does decide to buy, she ends up on the confirmation page\n",
    "The company CEO isn't very happy with the ]oluTe oM sales and, especially, oM sales coming from new users. Therefore, she asked you to investigate whether there is something wrong in the conversion funnel or, in general, if you could suggest how conversion rate can be improved.\n",
    "<br>\n",
    "<br>\n",
    "Specifically, she is interested in :\n",
    "* A full picture of funnel conversion rate for both desktop and mobile\n",
    "* Some insights on what the product team should focus on in order to improve conversion rate as well as anything you might discover that could help improve conversion rate."
   ]
  },
  {
   "cell_type": "markdown",
   "metadata": {},
   "source": [
    "## Data"
   ]
  },
  {
   "cell_type": "markdown",
   "metadata": {},
   "source": [
    "\"user_table\" - info about the user\n",
    "* **user_id** : the Id of the user. It is unique by user and can be joined to user id in all other tables\n",
    "* **date** : the date when the user firstly landed on the site\n",
    "* **device** : user device. Can be mobile or desktop\n",
    "* **sex** : male/female\n",
    "<br>\n",
    "\n",
    "\"home_page_table\" - Users who landed on the home page\n",
    "* **user_id** : the Id of the user. It is unique by user and can be joined to user id in all other tables\n",
    "* **page** : it is always home_page.\n",
    "<br>\n",
    "\n",
    "\"search_page_table\" - Users who landed on the search_page\n",
    "* **user_id** : the Id of the user. It is unique by user and can be joined to user id in all other tables\n",
    "* **page** : it is always search_page\n",
    "<br>\n",
    "\n",
    "\"payment_page_table\" - Users who landed on the payment_page\n",
    "* **user_id** : the Id of the user. It is unique by user and can be joined to user id in all other tables\n",
    "* **page** : it is always payment_page\n",
    "<br>\n",
    "\n",
    "\"payment_confirmation_table\" - Users who landed on the payment_confirmation_table. That is, these are the users who bought the product.\n",
    "* **user_id** : the Id of the user. It is unique by user and can be joined to user id in all other tables\n",
    "* **page** : it is always payment_confirmation_page"
   ]
  },
  {
   "cell_type": "markdown",
   "metadata": {},
   "source": [
    "==================================================================================="
   ]
  },
  {
   "cell_type": "code",
   "execution_count": 142,
   "metadata": {},
   "outputs": [],
   "source": [
    "import numpy as np\n",
    "import pandas as pd\n",
    "import matplotlib.pyplot as plt\n",
    "import seaborn as sns\n",
    "from functools import reduce\n",
    "from datetime import date\n",
    "from sklearn import tree\n",
    "from sklearn.preprocessing import OrdinalEncoder"
   ]
  },
  {
   "cell_type": "code",
   "execution_count": 50,
   "metadata": {},
   "outputs": [],
   "source": [
    "import os \n",
    "os.chdir(\"F:/Data_Science/ProductSense_ABTesing_STATS/DS take home challenges\\Dataset/5.Funnel_Analysis\")"
   ]
  },
  {
   "cell_type": "code",
   "execution_count": 51,
   "metadata": {},
   "outputs": [],
   "source": [
    "df1 = pd.read_csv(\"user_table.csv\")\n",
    "df2 = pd.read_csv(\"home_page_table.csv\")\n",
    "df3 = pd.read_csv(\"search_page_table.csv\")\n",
    "df4 = pd.read_csv(\"payment_page_table.csv\")\n",
    "df5 = pd.read_csv(\"payment_confirmation_table.csv\")"
   ]
  },
  {
   "cell_type": "markdown",
   "metadata": {},
   "source": [
    "## Preliminary Analysis"
   ]
  },
  {
   "cell_type": "code",
   "execution_count": 52,
   "metadata": {},
   "outputs": [
    {
     "name": "stderr",
     "output_type": "stream",
     "text": [
      "C:\\Users\\LittlePigPig\\AppData\\Local\\Temp\\ipykernel_42568\\1870588795.py:2: FutureWarning: Passing 'suffixes' which cause duplicate columns {'page_x'} in the result is deprecated and will raise a MergeError in a future version.\n",
      "  df = reduce(lambda  left, right: pd.merge(left, right,on=['user_id'],how='outer'), data_frames)\n"
     ]
    },
    {
     "data": {
      "text/html": [
       "<div>\n",
       "<style scoped>\n",
       "    .dataframe tbody tr th:only-of-type {\n",
       "        vertical-align: middle;\n",
       "    }\n",
       "\n",
       "    .dataframe tbody tr th {\n",
       "        vertical-align: top;\n",
       "    }\n",
       "\n",
       "    .dataframe thead th {\n",
       "        text-align: right;\n",
       "    }\n",
       "</style>\n",
       "<table border=\"1\" class=\"dataframe\">\n",
       "  <thead>\n",
       "    <tr style=\"text-align: right;\">\n",
       "      <th></th>\n",
       "      <th>user_id</th>\n",
       "      <th>date</th>\n",
       "      <th>device</th>\n",
       "      <th>sex</th>\n",
       "      <th>home page</th>\n",
       "      <th>search page</th>\n",
       "      <th>payment page</th>\n",
       "      <th>payment confirmation page</th>\n",
       "    </tr>\n",
       "  </thead>\n",
       "  <tbody>\n",
       "    <tr>\n",
       "      <th>0</th>\n",
       "      <td>450007</td>\n",
       "      <td>2015-02-28</td>\n",
       "      <td>Desktop</td>\n",
       "      <td>Female</td>\n",
       "      <td>home_page</td>\n",
       "      <td>NaN</td>\n",
       "      <td>NaN</td>\n",
       "      <td>NaN</td>\n",
       "    </tr>\n",
       "    <tr>\n",
       "      <th>1</th>\n",
       "      <td>756838</td>\n",
       "      <td>2015-01-13</td>\n",
       "      <td>Desktop</td>\n",
       "      <td>Male</td>\n",
       "      <td>home_page</td>\n",
       "      <td>NaN</td>\n",
       "      <td>NaN</td>\n",
       "      <td>NaN</td>\n",
       "    </tr>\n",
       "    <tr>\n",
       "      <th>2</th>\n",
       "      <td>568983</td>\n",
       "      <td>2015-04-09</td>\n",
       "      <td>Desktop</td>\n",
       "      <td>Male</td>\n",
       "      <td>home_page</td>\n",
       "      <td>search_page</td>\n",
       "      <td>NaN</td>\n",
       "      <td>NaN</td>\n",
       "    </tr>\n",
       "    <tr>\n",
       "      <th>3</th>\n",
       "      <td>190794</td>\n",
       "      <td>2015-02-18</td>\n",
       "      <td>Desktop</td>\n",
       "      <td>Female</td>\n",
       "      <td>home_page</td>\n",
       "      <td>search_page</td>\n",
       "      <td>NaN</td>\n",
       "      <td>NaN</td>\n",
       "    </tr>\n",
       "    <tr>\n",
       "      <th>4</th>\n",
       "      <td>537909</td>\n",
       "      <td>2015-01-15</td>\n",
       "      <td>Desktop</td>\n",
       "      <td>Male</td>\n",
       "      <td>home_page</td>\n",
       "      <td>NaN</td>\n",
       "      <td>NaN</td>\n",
       "      <td>NaN</td>\n",
       "    </tr>\n",
       "  </tbody>\n",
       "</table>\n",
       "</div>"
      ],
      "text/plain": [
       "   user_id        date   device     sex  home page  search page payment page  \\\n",
       "0   450007  2015-02-28  Desktop  Female  home_page          NaN          NaN   \n",
       "1   756838  2015-01-13  Desktop    Male  home_page          NaN          NaN   \n",
       "2   568983  2015-04-09  Desktop    Male  home_page  search_page          NaN   \n",
       "3   190794  2015-02-18  Desktop  Female  home_page  search_page          NaN   \n",
       "4   537909  2015-01-15  Desktop    Male  home_page          NaN          NaN   \n",
       "\n",
       "  payment confirmation page  \n",
       "0                       NaN  \n",
       "1                       NaN  \n",
       "2                       NaN  \n",
       "3                       NaN  \n",
       "4                       NaN  "
      ]
     },
     "execution_count": 52,
     "metadata": {},
     "output_type": "execute_result"
    }
   ],
   "source": [
    "# merge datasets\n",
    "data_frames = [df1, df2, df3, df4, df5]\n",
    "df = reduce(lambda  left, right: pd.merge(left, right,on=['user_id'],how='outer'), data_frames)\n",
    "column_names = ['user_id', 'date', 'device', 'sex', 'home page', 'search page', 'payment page', 'payment confirmation page']\n",
    "df.columns = column_names\n",
    "df.head()"
   ]
  },
  {
   "cell_type": "code",
   "execution_count": 53,
   "metadata": {},
   "outputs": [
    {
     "data": {
      "text/html": [
       "<div>\n",
       "<style scoped>\n",
       "    .dataframe tbody tr th:only-of-type {\n",
       "        vertical-align: middle;\n",
       "    }\n",
       "\n",
       "    .dataframe tbody tr th {\n",
       "        vertical-align: top;\n",
       "    }\n",
       "\n",
       "    .dataframe thead th {\n",
       "        text-align: right;\n",
       "    }\n",
       "</style>\n",
       "<table border=\"1\" class=\"dataframe\">\n",
       "  <thead>\n",
       "    <tr style=\"text-align: right;\">\n",
       "      <th></th>\n",
       "      <th>user_id</th>\n",
       "      <th>date</th>\n",
       "      <th>device</th>\n",
       "      <th>sex</th>\n",
       "      <th>home page</th>\n",
       "      <th>search page</th>\n",
       "      <th>payment page</th>\n",
       "      <th>payment confirmation page</th>\n",
       "    </tr>\n",
       "  </thead>\n",
       "  <tbody>\n",
       "    <tr>\n",
       "      <th>0</th>\n",
       "      <td>450007</td>\n",
       "      <td>2015-02-28</td>\n",
       "      <td>Desktop</td>\n",
       "      <td>Female</td>\n",
       "      <td>home_page</td>\n",
       "      <td>0</td>\n",
       "      <td>0</td>\n",
       "      <td>0</td>\n",
       "    </tr>\n",
       "    <tr>\n",
       "      <th>1</th>\n",
       "      <td>756838</td>\n",
       "      <td>2015-01-13</td>\n",
       "      <td>Desktop</td>\n",
       "      <td>Male</td>\n",
       "      <td>home_page</td>\n",
       "      <td>0</td>\n",
       "      <td>0</td>\n",
       "      <td>0</td>\n",
       "    </tr>\n",
       "    <tr>\n",
       "      <th>2</th>\n",
       "      <td>568983</td>\n",
       "      <td>2015-04-09</td>\n",
       "      <td>Desktop</td>\n",
       "      <td>Male</td>\n",
       "      <td>home_page</td>\n",
       "      <td>1</td>\n",
       "      <td>0</td>\n",
       "      <td>0</td>\n",
       "    </tr>\n",
       "    <tr>\n",
       "      <th>3</th>\n",
       "      <td>190794</td>\n",
       "      <td>2015-02-18</td>\n",
       "      <td>Desktop</td>\n",
       "      <td>Female</td>\n",
       "      <td>home_page</td>\n",
       "      <td>1</td>\n",
       "      <td>0</td>\n",
       "      <td>0</td>\n",
       "    </tr>\n",
       "    <tr>\n",
       "      <th>4</th>\n",
       "      <td>537909</td>\n",
       "      <td>2015-01-15</td>\n",
       "      <td>Desktop</td>\n",
       "      <td>Male</td>\n",
       "      <td>home_page</td>\n",
       "      <td>0</td>\n",
       "      <td>0</td>\n",
       "      <td>0</td>\n",
       "    </tr>\n",
       "  </tbody>\n",
       "</table>\n",
       "</div>"
      ],
      "text/plain": [
       "   user_id        date   device     sex  home page  search page  payment page  \\\n",
       "0   450007  2015-02-28  Desktop  Female  home_page            0             0   \n",
       "1   756838  2015-01-13  Desktop    Male  home_page            0             0   \n",
       "2   568983  2015-04-09  Desktop    Male  home_page            1             0   \n",
       "3   190794  2015-02-18  Desktop  Female  home_page            1             0   \n",
       "4   537909  2015-01-15  Desktop    Male  home_page            0             0   \n",
       "\n",
       "   payment confirmation page  \n",
       "0                          0  \n",
       "1                          0  \n",
       "2                          0  \n",
       "3                          0  \n",
       "4                          0  "
      ]
     },
     "execution_count": 53,
     "metadata": {},
     "output_type": "execute_result"
    }
   ],
   "source": [
    "# convert null/notnull to 0/1\n",
    "for i in ['search page', 'payment page', 'payment confirmation page']:\n",
    "    df[i] = df[i].notnull() * 1\n",
    "    pass\n",
    "df.head()"
   ]
  },
  {
   "cell_type": "code",
   "execution_count": 54,
   "metadata": {},
   "outputs": [],
   "source": [
    "df_desktop = df[df['device'] == 'Desktop']\n",
    "df_mobile = df[df['device'] == 'Mobile']"
   ]
  },
  {
   "cell_type": "code",
   "execution_count": 60,
   "metadata": {},
   "outputs": [
    {
     "name": "stdout",
     "output_type": "stream",
     "text": [
      "For all devices, conversion rate of search page is 50.00%\n",
      "For desktop, conversion rate of search page is 50.00%\n",
      "For mobile, conversion rate of search page is 50.00%\n",
      "=====================================================================================\n",
      "For all devices, conversion rate of payment page is 6.67%\n",
      "For desktop, conversion rate of payment page is 5.00%\n",
      "For mobile, conversion rate of payment page is 10.00%\n",
      "=====================================================================================\n",
      "For all devices, conversion rate of payment confirmation page is 0.50%\n",
      "For desktop, conversion rate of payment confirmation page is 0.25%\n",
      "For mobile, conversion rate of payment confirmation page is 1.00%\n",
      "=====================================================================================\n"
     ]
    }
   ],
   "source": [
    "for i in ['search page', 'payment page', 'payment confirmation page']:\n",
    "    print('For all devices, conversion rate of {:10s} is {:.2f}%'.format(i, 100 * df[i].sum() / df.shape[0]))\n",
    "    print('For desktop, conversion rate of {:10s} is {:.2f}%'.format(i, 100 * df_desktop[i].sum() / df_desktop.shape[0]))\n",
    "    print('For mobile, conversion rate of {:10s} is {:.2f}%'.format(i, 100 * df_mobile[i].sum() / df_mobile.shape[0]))\n",
    "    print('=====================================================================================')"
   ]
  },
  {
   "cell_type": "code",
   "execution_count": 66,
   "metadata": {},
   "outputs": [
    {
     "data": {
      "text/html": [
       "<div>\n",
       "<style scoped>\n",
       "    .dataframe tbody tr th:only-of-type {\n",
       "        vertical-align: middle;\n",
       "    }\n",
       "\n",
       "    .dataframe tbody tr th {\n",
       "        vertical-align: top;\n",
       "    }\n",
       "\n",
       "    .dataframe thead th {\n",
       "        text-align: right;\n",
       "    }\n",
       "</style>\n",
       "<table border=\"1\" class=\"dataframe\">\n",
       "  <thead>\n",
       "    <tr style=\"text-align: right;\">\n",
       "      <th></th>\n",
       "      <th>home page</th>\n",
       "      <th>search page</th>\n",
       "      <th>payment page</th>\n",
       "      <th>payment confirmation page</th>\n",
       "    </tr>\n",
       "  </thead>\n",
       "  <tbody>\n",
       "    <tr>\n",
       "      <th>all device</th>\n",
       "      <td>1</td>\n",
       "      <td>0.5</td>\n",
       "      <td>0.0667</td>\n",
       "      <td>0.0050</td>\n",
       "    </tr>\n",
       "    <tr>\n",
       "      <th>desktop</th>\n",
       "      <td>1</td>\n",
       "      <td>0.5</td>\n",
       "      <td>0.0050</td>\n",
       "      <td>0.0025</td>\n",
       "    </tr>\n",
       "    <tr>\n",
       "      <th>mobile</th>\n",
       "      <td>1</td>\n",
       "      <td>0.5</td>\n",
       "      <td>0.1000</td>\n",
       "      <td>0.0100</td>\n",
       "    </tr>\n",
       "  </tbody>\n",
       "</table>\n",
       "</div>"
      ],
      "text/plain": [
       "            home page  search page  payment page  payment confirmation page\n",
       "all device          1          0.5        0.0667                     0.0050\n",
       "desktop             1          0.5        0.0050                     0.0025\n",
       "mobile              1          0.5        0.1000                     0.0100"
      ]
     },
     "execution_count": 66,
     "metadata": {},
     "output_type": "execute_result"
    }
   ],
   "source": [
    "cvr = pd.DataFrame(columns=['home page', 'search page', 'payment page', 'payment confirmation page'], \n",
    "                    data  = [[1,0.5,0.0667,0.005], [1,0.5,0.005,0.0025], [1,0.5,0.1,0.01]], \n",
    "                    index = ['all device', 'desktop', 'mobile'])\n",
    "print(cvr)"
   ]
  },
  {
   "cell_type": "code",
   "execution_count": 67,
   "metadata": {},
   "outputs": [
    {
     "data": {
      "text/plain": [
       "<AxesSubplot:>"
      ]
     },
     "execution_count": 67,
     "metadata": {},
     "output_type": "execute_result"
    },
    {
     "data": {
      "image/png": "[encoded data removed]",
      "text/plain": [
       "<Figure size 640x480 with 1 Axes>"
      ]
     },
     "metadata": {},
     "output_type": "display_data"
    }
   ],
   "source": [
    "cvr.plot(kind = 'bar')"
   ]
  },
  {
   "cell_type": "code",
   "execution_count": 74,
   "metadata": {},
   "outputs": [
    {
     "data": {
      "image/png": "[encoded data removed]",
      "text/plain": [
       "<Figure size 640x480 with 1 Axes>"
      ]
     },
     "metadata": {},
     "output_type": "display_data"
    }
   ],
   "source": [
    "plt.bar(x = ['Desktop', 'Mobile'], height = [df_desktop.shape[0], df_mobile.shape[0]], width = 0.4)\n",
    "plt.xlabel('Device type')\n",
    "plt.ylabel('Number of users')\n",
    "plt.title('User num. vs device type')\n",
    "plt.show()"
   ]
  },
  {
   "cell_type": "markdown",
   "metadata": {},
   "source": [
    "* The overall conversion rate of this company is 0.5% regardless of device type, which is pretty low. Basically, the average conversion rate is between 2-5% for all advertisers, from brand names to small-to-midsized businesses (SMBs), while most companies aim for a 10% (or higher) conversion rate. So the cvr of this company is far from that level. \n",
    "* Compared with mobile and desktop, the conversion rate in mobile is higher, reaching 10% while that of desktop users is only 0.5%. However, the number of desktop users is nearly twice as the number of users using mobile phone, so the product team should take a closer look at the website of the company.\n",
    "* We can see that for desktop users, most of them didn't leave at the search page, so mabybe the recommending system is not working well or the layout of the products is not very appealing."
   ]
  },
  {
   "cell_type": "markdown",
   "metadata": {},
   "source": [
    "## Conversion rate of each stage"
   ]
  },
  {
   "cell_type": "code",
   "execution_count": 87,
   "metadata": {},
   "outputs": [],
   "source": [
    "# write a function to calculate the conversion rate of each stage\n",
    "def func_cvr(data):\n",
    "    cvr = []\n",
    "    column =  ['home page','search page', 'payment page', 'payment confirmation page']\n",
    "    cvr.append(data[column[1]].sum() / data.shape[0])\n",
    "    for i in range(2, len(column) ):\n",
    "        cvr.append(data[column[i]].sum() / data[column[i-1]].sum())\n",
    "    return cvr"
   ]
  },
  {
   "cell_type": "markdown",
   "metadata": {},
   "source": [
    "### Device type"
   ]
  },
  {
   "cell_type": "code",
   "execution_count": 90,
   "metadata": {},
   "outputs": [],
   "source": [
    "cvr_df = func_cvr(df)\n",
    "cvr_df_desktop = func_cvr(df_desktop)\n",
    "cvr_df_mobile = func_cvr(df_mobile)"
   ]
  },
  {
   "cell_type": "code",
   "execution_count": 99,
   "metadata": {},
   "outputs": [
    {
     "data": {
      "text/html": [
       "<div>\n",
       "<style scoped>\n",
       "    .dataframe tbody tr th:only-of-type {\n",
       "        vertical-align: middle;\n",
       "    }\n",
       "\n",
       "    .dataframe tbody tr th {\n",
       "        vertical-align: top;\n",
       "    }\n",
       "\n",
       "    .dataframe thead th {\n",
       "        text-align: right;\n",
       "    }\n",
       "</style>\n",
       "<table border=\"1\" class=\"dataframe\">\n",
       "  <thead>\n",
       "    <tr style=\"text-align: right;\">\n",
       "      <th></th>\n",
       "      <th>search page</th>\n",
       "      <th>payment page</th>\n",
       "      <th>payment confirmation page</th>\n",
       "    </tr>\n",
       "  </thead>\n",
       "  <tbody>\n",
       "    <tr>\n",
       "      <th>all device</th>\n",
       "      <td>0.5</td>\n",
       "      <td>0.133407</td>\n",
       "      <td>0.074959</td>\n",
       "    </tr>\n",
       "    <tr>\n",
       "      <th>desktop</th>\n",
       "      <td>0.5</td>\n",
       "      <td>0.100000</td>\n",
       "      <td>0.049834</td>\n",
       "    </tr>\n",
       "    <tr>\n",
       "      <th>mobile</th>\n",
       "      <td>0.5</td>\n",
       "      <td>0.200000</td>\n",
       "      <td>0.100000</td>\n",
       "    </tr>\n",
       "  </tbody>\n",
       "</table>\n",
       "</div>"
      ],
      "text/plain": [
       "            search page  payment page  payment confirmation page\n",
       "all device          0.5      0.133407                   0.074959\n",
       "desktop             0.5      0.100000                   0.049834\n",
       "mobile              0.5      0.200000                   0.100000"
      ]
     },
     "execution_count": 99,
     "metadata": {},
     "output_type": "execute_result"
    }
   ],
   "source": [
    "cvr_device = pd.DataFrame(columns=['search page', 'payment page', 'payment confirmation page'], \n",
    "                    data  = [cvr_df, cvr_df_desktop, cvr_df_mobile], \n",
    "                    index = ['all device', 'desktop', 'mobile'])\n",
    "print(cvr_device)"
   ]
  },
  {
   "cell_type": "code",
   "execution_count": 102,
   "metadata": {},
   "outputs": [
    {
     "data": {
      "text/plain": [
       "<AxesSubplot:>"
      ]
     },
     "execution_count": 102,
     "metadata": {},
     "output_type": "execute_result"
    },
    {
     "data": {
      "image/png": "[encoded data removed]",
      "text/plain": [
       "<Figure size 640x480 with 1 Axes>"
      ]
     },
     "metadata": {},
     "output_type": "display_data"
    }
   ],
   "source": [
    "cvr_device.plot(kind = 'bar')"
   ]
  },
  {
   "cell_type": "markdown",
   "metadata": {},
   "source": [
    "Many users churn after the search page, maybe the company should improve its recommending algorithms."
   ]
  },
  {
   "cell_type": "markdown",
   "metadata": {},
   "source": [
    "### Sex"
   ]
  },
  {
   "cell_type": "code",
   "execution_count": 103,
   "metadata": {},
   "outputs": [],
   "source": [
    "cvr_f = func_cvr(df[df['sex'] == 'Female'])\n",
    "cvr_m = func_cvr(df[df['sex'] == 'Male'])"
   ]
  },
  {
   "cell_type": "code",
   "execution_count": 104,
   "metadata": {},
   "outputs": [
    {
     "data": {
      "text/html": [
       "<div>\n",
       "<style scoped>\n",
       "    .dataframe tbody tr th:only-of-type {\n",
       "        vertical-align: middle;\n",
       "    }\n",
       "\n",
       "    .dataframe tbody tr th {\n",
       "        vertical-align: top;\n",
       "    }\n",
       "\n",
       "    .dataframe thead th {\n",
       "        text-align: right;\n",
       "    }\n",
       "</style>\n",
       "<table border=\"1\" class=\"dataframe\">\n",
       "  <thead>\n",
       "    <tr style=\"text-align: right;\">\n",
       "      <th></th>\n",
       "      <th>search page</th>\n",
       "      <th>payment page</th>\n",
       "      <th>payment confirmation page</th>\n",
       "    </tr>\n",
       "  </thead>\n",
       "  <tbody>\n",
       "    <tr>\n",
       "      <th>f</th>\n",
       "      <td>0.503073</td>\n",
       "      <td>0.136708</td>\n",
       "      <td>0.077742</td>\n",
       "    </tr>\n",
       "    <tr>\n",
       "      <th>m</th>\n",
       "      <td>0.496944</td>\n",
       "      <td>0.130083</td>\n",
       "      <td>0.072014</td>\n",
       "    </tr>\n",
       "  </tbody>\n",
       "</table>\n",
       "</div>"
      ],
      "text/plain": [
       "   search page  payment page  payment confirmation page\n",
       "f     0.503073      0.136708                   0.077742\n",
       "m     0.496944      0.130083                   0.072014"
      ]
     },
     "execution_count": 104,
     "metadata": {},
     "output_type": "execute_result"
    }
   ],
   "source": [
    "cvr_sex = pd.DataFrame(columns=['search page', 'payment page', 'payment confirmation page'], \n",
    "                    data  = [cvr_f, cvr_m], \n",
    "                    index = ['f', 'm', ])\n",
    "print(cvr_sex)"
   ]
  },
  {
   "cell_type": "code",
   "execution_count": 105,
   "metadata": {},
   "outputs": [
    {
     "data": {
      "text/plain": [
       "<AxesSubplot:>"
      ]
     },
     "execution_count": 105,
     "metadata": {},
     "output_type": "execute_result"
    },
    {
     "data": {
      "image/png": "[encoded data removed]",
      "text/plain": [
       "<Figure size 640x480 with 1 Axes>"
      ]
     },
     "metadata": {},
     "output_type": "display_data"
    }
   ],
   "source": [
    "cvr_sex.plot(kind = 'bar')"
   ]
  },
  {
   "cell_type": "markdown",
   "metadata": {},
   "source": [
    "Sex doesn't seem to be related to conversion rate. "
   ]
  },
  {
   "cell_type": "markdown",
   "metadata": {},
   "source": [
    "### Day of week"
   ]
  },
  {
   "cell_type": "code",
   "execution_count": 112,
   "metadata": {},
   "outputs": [
    {
     "data": {
      "text/html": [
       "<div>\n",
       "<style scoped>\n",
       "    .dataframe tbody tr th:only-of-type {\n",
       "        vertical-align: middle;\n",
       "    }\n",
       "\n",
       "    .dataframe tbody tr th {\n",
       "        vertical-align: top;\n",
       "    }\n",
       "\n",
       "    .dataframe thead th {\n",
       "        text-align: right;\n",
       "    }\n",
       "</style>\n",
       "<table border=\"1\" class=\"dataframe\">\n",
       "  <thead>\n",
       "    <tr style=\"text-align: right;\">\n",
       "      <th></th>\n",
       "      <th>user_id</th>\n",
       "      <th>date</th>\n",
       "      <th>device</th>\n",
       "      <th>sex</th>\n",
       "      <th>home page</th>\n",
       "      <th>search page</th>\n",
       "      <th>payment page</th>\n",
       "      <th>payment confirmation page</th>\n",
       "      <th>weekday</th>\n",
       "    </tr>\n",
       "  </thead>\n",
       "  <tbody>\n",
       "    <tr>\n",
       "      <th>0</th>\n",
       "      <td>450007</td>\n",
       "      <td>2015-02-28</td>\n",
       "      <td>Desktop</td>\n",
       "      <td>Female</td>\n",
       "      <td>home_page</td>\n",
       "      <td>0</td>\n",
       "      <td>0</td>\n",
       "      <td>0</td>\n",
       "      <td>5</td>\n",
       "    </tr>\n",
       "    <tr>\n",
       "      <th>1</th>\n",
       "      <td>756838</td>\n",
       "      <td>2015-01-13</td>\n",
       "      <td>Desktop</td>\n",
       "      <td>Male</td>\n",
       "      <td>home_page</td>\n",
       "      <td>0</td>\n",
       "      <td>0</td>\n",
       "      <td>0</td>\n",
       "      <td>1</td>\n",
       "    </tr>\n",
       "    <tr>\n",
       "      <th>2</th>\n",
       "      <td>568983</td>\n",
       "      <td>2015-04-09</td>\n",
       "      <td>Desktop</td>\n",
       "      <td>Male</td>\n",
       "      <td>home_page</td>\n",
       "      <td>1</td>\n",
       "      <td>0</td>\n",
       "      <td>0</td>\n",
       "      <td>3</td>\n",
       "    </tr>\n",
       "    <tr>\n",
       "      <th>3</th>\n",
       "      <td>190794</td>\n",
       "      <td>2015-02-18</td>\n",
       "      <td>Desktop</td>\n",
       "      <td>Female</td>\n",
       "      <td>home_page</td>\n",
       "      <td>1</td>\n",
       "      <td>0</td>\n",
       "      <td>0</td>\n",
       "      <td>2</td>\n",
       "    </tr>\n",
       "    <tr>\n",
       "      <th>4</th>\n",
       "      <td>537909</td>\n",
       "      <td>2015-01-15</td>\n",
       "      <td>Desktop</td>\n",
       "      <td>Male</td>\n",
       "      <td>home_page</td>\n",
       "      <td>0</td>\n",
       "      <td>0</td>\n",
       "      <td>0</td>\n",
       "      <td>3</td>\n",
       "    </tr>\n",
       "  </tbody>\n",
       "</table>\n",
       "</div>"
      ],
      "text/plain": [
       "   user_id        date   device     sex  home page  search page  payment page  \\\n",
       "0   450007  2015-02-28  Desktop  Female  home_page            0             0   \n",
       "1   756838  2015-01-13  Desktop    Male  home_page            0             0   \n",
       "2   568983  2015-04-09  Desktop    Male  home_page            1             0   \n",
       "3   190794  2015-02-18  Desktop  Female  home_page            1             0   \n",
       "4   537909  2015-01-15  Desktop    Male  home_page            0             0   \n",
       "\n",
       "   payment confirmation page  weekday  \n",
       "0                          0        5  \n",
       "1                          0        1  \n",
       "2                          0        3  \n",
       "3                          0        2  \n",
       "4                          0        3  "
      ]
     },
     "execution_count": 112,
     "metadata": {},
     "output_type": "execute_result"
    }
   ],
   "source": [
    "df['weekday'] = df['date'].apply(lambda x: pd.to_datetime(x)).dt.dayofweek        # 0 for Monday\n",
    "df.head()"
   ]
  },
  {
   "cell_type": "code",
   "execution_count": 125,
   "metadata": {},
   "outputs": [
    {
     "data": {
      "text/plain": [
       "<AxesSubplot:>"
      ]
     },
     "execution_count": 125,
     "metadata": {},
     "output_type": "execute_result"
    },
    {
     "data": {
      "image/png": "[encoded data removed]",
      "text/plain": [
       "<Figure size 640x480 with 1 Axes>"
      ]
     },
     "metadata": {},
     "output_type": "display_data"
    }
   ],
   "source": [
    "cvr_weekday = pd.DataFrame(df.groupby('weekday').apply(func_cvr).tolist(), columns=['search page', 'payment page', 'payment confirmation page'])\n",
    "cvr_weekday.plot(kind = 'bar')    "
   ]
  },
  {
   "cell_type": "markdown",
   "metadata": {},
   "source": [
    "* There is a noticeable midweek slump. \n",
    "* The conversion rate is highest on Monday, which tells us that people shopping on Monday are coming in with a greater intent to buy, so the company should focus more on potentially lucrative Mondays. \\\n",
    "https://richrelevance.com/2012/08/27/monday-matters-how-day-of-week-affects-online-shopping-for-four-major-retailers/"
   ]
  },
  {
   "cell_type": "markdown",
   "metadata": {},
   "source": [
    "## Decision tree model"
   ]
  },
  {
   "cell_type": "code",
   "execution_count": 139,
   "metadata": {},
   "outputs": [],
   "source": [
    "X = df.loc[:, ['sex', 'device', 'weekday']]\n",
    "y = df['payment confirmation page']"
   ]
  },
  {
   "cell_type": "code",
   "execution_count": 146,
   "metadata": {},
   "outputs": [],
   "source": [
    "X = pd.DataFrame(OrdinalEncoder().fit_transform(X), columns = ['sex', 'device', 'weekday'])\n",
    "# sex: 1-Male, 0-Female; device: 1-Mobile, 0-Desktop"
   ]
  },
  {
   "cell_type": "code",
   "execution_count": 147,
   "metadata": {},
   "outputs": [
    {
     "data": {
      "text/plain": [
       "array([0.04201375, 0.86742358, 0.09056266])"
      ]
     },
     "execution_count": 147,
     "metadata": {},
     "output_type": "execute_result"
    }
   ],
   "source": [
    "dtc = tree.DecisionTreeClassifier().fit(X, y)\n",
    "print(dtc.feature_importances_)"
   ]
  },
  {
   "cell_type": "markdown",
   "metadata": {},
   "source": [
    "The most important feature is device. So the company should take action to improve its website to increase conversion rate. "
   ]
  },
  {
   "cell_type": "code",
   "execution_count": null,
   "metadata": {},
   "outputs": [],
   "source": [
    "# Visualize Decision Tree\n",
    "#import graphviz\n",
    "#dot_data = tree.export_graphviz(dtc, \n",
    "#                                feature_names=['sex', 'device', 'weekday'], \n",
    "#                               class_names=['0', '1'],\n",
    "#                              filled=True, \n",
    "#                             rounded=True)\n",
    "#graph = graphviz.Source(dot_data)\n",
    "#graph"
   ]
  }
 ],
 "metadata": {
  "kernelspec": {
   "display_name": "Python 3 (ipykernel)",
   "language": "python",
   "name": "python3"
  },
  "language_info": {
   "codemirror_mode": {
    "name": "ipython",
    "version": 3
   },
   "file_extension": ".py",
   "mimetype": "text/x-python",
   "name": "python",
   "nbconvert_exporter": "python",
   "pygments_lexer": "ipython3",
   "version": "3.10.6"
  },
  "vscode": {
   "interpreter": {
    "hash": "caa79e79b13b4a24ed1e40b8fd425b38aacc1b8fb3707c3bea2d025878df32c5"
   }
  }
 },
 "nbformat": 4,
 "nbformat_minor": 2
}
